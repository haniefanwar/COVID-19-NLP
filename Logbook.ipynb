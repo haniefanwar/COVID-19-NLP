{
 "cells": [
  {
   "cell_type": "markdown",
   "metadata": {},
   "source": [
    "# Logbook for EDAN70AI"
   ]
  },
  {
   "cell_type": "markdown",
   "metadata": {},
   "source": [
    "## Week 1\n",
    "### Day 1\n",
    "#### Research on scipacy and spacy environment, by reading https://allenai.github.io/scispacy , spacy.io, and sonja's notebook on github\n",
    "### Day 2\n",
    "#### Installing scispacy environment on jupyter notebook, had some errors on setting up\n",
    "### Day 3\n",
    "#### Loading model and creating path for 100 subset, test out abbbreviation detector"
   ]
  },
  {
   "cell_type": "markdown",
   "metadata": {},
   "source": [
    "## Week 2"
   ]
  },
  {
   "cell_type": "markdown",
   "metadata": {},
   "source": [
    "#### Overall aim for this week is to start building the tagger. However, have some trouble regarding creating the tagger. Try to redesign the code for building the tagger"
   ]
  },
  {
   "cell_type": "markdown",
   "metadata": {},
   "source": [
    "## Week 3\n",
    "\n",
    "#### Aim for this week is to finish the tagger and read the pubannotation format for the output"
   ]
  },
  {
   "cell_type": "markdown",
   "metadata": {},
   "source": [
    "## Week 4\n",
    "\n",
    "#### Tagger works for craft model, try to run with other model with matching corpus. Start to build table for report for overlapping corpus"
   ]
  },
  {
   "cell_type": "code",
   "execution_count": null,
   "metadata": {},
   "outputs": [],
   "source": []
  }
 ],
 "metadata": {
  "kernelspec": {
   "display_name": "Python 3",
   "language": "python",
   "name": "python3"
  },
  "language_info": {
   "codemirror_mode": {
    "name": "ipython",
    "version": 3
   },
   "file_extension": ".py",
   "mimetype": "text/x-python",
   "name": "python",
   "nbconvert_exporter": "python",
   "pygments_lexer": "ipython3",
   "version": "3.7.4"
  }
 },
 "nbformat": 4,
 "nbformat_minor": 2
}
